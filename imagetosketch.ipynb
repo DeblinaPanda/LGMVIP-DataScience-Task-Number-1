{
  "nbformat": 4,
  "nbformat_minor": 0,
  "metadata": {
    "colab": {
      "provenance": []
    },
    "kernelspec": {
      "name": "python3",
      "display_name": "Python 3"
    },
    "language_info": {
      "name": "python"
    }
  },
  "cells": [
    {
      "cell_type": "code",
      "execution_count": 1,
      "metadata": {
        "id": "u56U6Ix3Oe1z"
      },
      "outputs": [],
      "source": [
        "import cv2\n",
        "from skimage import filters"
      ]
    },
    {
      "cell_type": "code",
      "source": [
        "# Load the image\n",
        "image = cv2.imread('input_image.jpg')"
      ],
      "metadata": {
        "id": "dtKzJh9vPF_d"
      },
      "execution_count": 2,
      "outputs": []
    },
    {
      "cell_type": "code",
      "source": [
        "# Convert the image to grayscale\n",
        "gray_image = cv2.cvtColor(image, cv2.COLOR_BGR2GRAY)"
      ],
      "metadata": {
        "id": "_8_RiPtaPJdj"
      },
      "execution_count": 3,
      "outputs": []
    },
    {
      "cell_type": "code",
      "source": [
        "#Invert the grayscale image\n",
        "inverted_image = cv2.bitwise_not(gray_image)"
      ],
      "metadata": {
        "id": "IhWs4supPSZE"
      },
      "execution_count": 4,
      "outputs": []
    },
    {
      "cell_type": "code",
      "source": [
        "# Apply Gaussian blur to the inverted image\n",
        "blurred_image = cv2.GaussianBlur(inverted_image, (111, 111), 0)"
      ],
      "metadata": {
        "id": "n62IYrmNPauS"
      },
      "execution_count": 5,
      "outputs": []
    },
    {
      "cell_type": "code",
      "source": [
        "# Invert the blurred image\n",
        "inverted_blurred_image = cv2.bitwise_not(blurred_image)"
      ],
      "metadata": {
        "id": "INODmtMMPgtm"
      },
      "execution_count": 6,
      "outputs": []
    },
    {
      "cell_type": "code",
      "source": [
        "# Apply the dodge blend mode to merge the original and inverted blurred image\n",
        "sketch = cv2.divide(gray_image, inverted_blurred_image, scale=256.0)\n"
      ],
      "metadata": {
        "id": "9Mr_ueYrPgz2"
      },
      "execution_count": 7,
      "outputs": []
    },
    {
      "cell_type": "code",
      "source": [
        "# Save the sketch image\n",
        "cv2.imwrite('output_sketch.jpg', sketch)"
      ],
      "metadata": {
        "id": "bd0Pyb1nPqZd",
        "colab": {
          "base_uri": "https://localhost:8080/"
        },
        "outputId": "63d1a6c4-7670-4331-ec5a-55516bddf1d8"
      },
      "execution_count": 8,
      "outputs": [
        {
          "output_type": "execute_result",
          "data": {
            "text/plain": [
              "True"
            ]
          },
          "metadata": {},
          "execution_count": 8
        }
      ]
    }
  ]
}